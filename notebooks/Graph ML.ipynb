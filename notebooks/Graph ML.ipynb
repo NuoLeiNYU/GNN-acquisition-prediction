{
 "cells": [
  {
   "cell_type": "code",
   "execution_count": 1,
   "metadata": {},
   "outputs": [
    {
     "name": "stderr",
     "output_type": "stream",
     "text": [
      "d:\\miniconda\\envs\\vip2\\lib\\site-packages\\tqdm\\auto.py:22: TqdmWarning: IProgress not found. Please update jupyter and ipywidgets. See https://ipywidgets.readthedocs.io/en/stable/user_install.html\n",
      "  from .autonotebook import tqdm as notebook_tqdm\n"
     ]
    }
   ],
   "source": [
    "import sys\n",
    "sys.path.insert(0, '../')\n",
    "from utils.GraphAnalytics import GraphAnalytics\n",
    "from models.Node2Vec import GraphNode2Vec\n",
    "import numpy as np\n",
    "import pandas as pd"
   ]
  },
  {
   "cell_type": "code",
   "execution_count": 3,
   "metadata": {},
   "outputs": [],
   "source": [
    "g = GraphAnalytics()\n",
    "g.load_graph('../data/full_graph')"
   ]
  },
  {
   "cell_type": "code",
   "execution_count": 4,
   "metadata": {},
   "outputs": [],
   "source": [
    "#while this method causes slower convergence because of the lack of prior, it is still a very healthy train\n",
    "mu, sigma = 0, .1 # mean and standard deviation\n",
    "final_embeddings = dict(zip(list(g.nodes),(np.random.normal(mu, sigma, 128) for i in range(len(g.nodes))))) #randomly making embedded nodes"
   ]
  },
  {
   "cell_type": "code",
   "execution_count": 10,
   "metadata": {},
   "outputs": [
    {
     "data": {
      "text/plain": [
       "35906"
      ]
     },
     "execution_count": 10,
     "metadata": {},
     "output_type": "execute_result"
    }
   ],
   "source": [
    "len(final_embeddings)"
   ]
  },
  {
   "cell_type": "code",
   "execution_count": 9,
   "metadata": {},
   "outputs": [
    {
     "data": {
      "text/plain": [
       "(128,)"
      ]
     },
     "execution_count": 9,
     "metadata": {},
     "output_type": "execute_result"
    }
   ],
   "source": [
    "final_embeddings[0].shape"
   ]
  },
  {
   "cell_type": "markdown",
   "metadata": {},
   "source": [
    "### StellarGraph implementation\n",
    "\n",
    "https://stellargraph.readthedocs.io/en/stable/demos/link-prediction/hinsage-link-prediction.html"
   ]
  },
  {
   "cell_type": "code",
   "execution_count": 14,
   "metadata": {},
   "outputs": [],
   "source": [
    "from stellargraph.data import EdgeSplitter\n",
    "from stellargraph import StellarGraph\n",
    "from stellargraph.mapper import HinSAGELinkGenerator\n",
    "from stellargraph.layer import HinSAGE, link_classification\n",
    "from stellargraph.utils import plot_history\n",
    "from tensorflow.keras import Model, optimizers, losses, metrics\n",
    "from tensorflow.keras.utils import plot_model\n",
    "from IPython.display import display, HTML\n",
    "import matplotlib.pyplot as plt\n",
    "import networkx as nx\n",
    "%matplotlib inline"
   ]
  },
  {
   "cell_type": "code",
   "execution_count": 15,
   "metadata": {},
   "outputs": [],
   "source": [
    "#load in with original node2vec embeddings\n",
    "st_g = g.as_undigraph.copy()\n",
    "nx.set_node_attributes(\n",
    "    st_g,\n",
    "    final_embeddings,\n",
    "    'node2vec_embeddings',\n",
    ")\n",
    "st_g = StellarGraph.from_networkx(st_g, node_features='node2vec_embeddings')"
   ]
  },
  {
   "cell_type": "code",
   "execution_count": 29,
   "metadata": {},
   "outputs": [
    {
     "data": {
      "text/plain": [
       "GraphSchema:\n",
       "node type: Company\n",
       "   Company -- ACQUIRED -> Company\n",
       "   Company -- ASSETS_BAND -> Quant_Metric\n",
       "   Company -- CEO -> Person\n",
       "   Company -- CHAIRMAN -> Person\n",
       "   Company -- EMPLOYEE_COUNT_BAND -> Quant_Metric\n",
       "   Company -- EQUITY_BAND -> Quant_Metric\n",
       "   Company -- GROUPED_IN -> Group\n",
       "   Company -- HEADQUARTERS -> Location\n",
       "   Company -- INDUSTRY -> Industry\n",
       "   Company -- MARKET_CAP_BAND -> Quant_Metric\n",
       "   Company -- PROFIT_BAND -> Quant_Metric\n",
       "   Company -- RESIDES_IN -> Location\n",
       "node type: Person\n",
       "   Person -- CEO -> Company\n",
       "   Person -- CHAIRMAN -> Company\n",
       "node type: Quant_Metric\n",
       "   Quant_Metric -- ASSETS_BAND -> Company\n",
       "   Quant_Metric -- EMPLOYEE_COUNT_BAND -> Company\n",
       "   Quant_Metric -- EQUITY_BAND -> Company\n",
       "   Quant_Metric -- MARKET_CAP_BAND -> Company\n",
       "   Quant_Metric -- PROFIT_BAND -> Company\n",
       "node type: Industry\n",
       "   Industry -- INDUSTRY -> Company\n",
       "node type: Group\n",
       "   Group -- GROUPED_IN -> Company\n",
       "node type: Location\n",
       "   Location -- HEADQUARTERS -> Company\n",
       "   Location -- RESIDES_IN -> Company"
      ]
     },
     "execution_count": 29,
     "metadata": {},
     "output_type": "execute_result"
    }
   ],
   "source": [
    "st_g.create_graph_schema()"
   ]
  },
  {
   "cell_type": "code",
   "execution_count": 30,
   "metadata": {},
   "outputs": [
    {
     "name": "stdout",
     "output_type": "stream",
     "text": [
      "Original Target Edges 2005\n",
      "Target Edges to be held in test dataset, unseen by training, and later used in evaluation 602\n",
      "Target Edges to be held in train dataset, used by backprop to opto 1403\n",
      "Remaining Target Edges turned into features 0\n"
     ]
    }
   ],
   "source": [
    "#the two really important hyper parameters are different in graph than traditional ML\n",
    "#test_pred_target_edge_count determines how many of the target edges we drop to later use as test data to evaluate prediction accuracy\n",
    "#the next cell block ALSO negativly samples nodes without the target edge and trains binary classification between the two node to node datasets\n",
    "test_pred_target_edge_count = .3\n",
    "#train_pred_target_edge_count is used to sub sample from the test graph, NOT the original graph\n",
    "#train_pred_target_edge_count determines how many of the target edges we drop to use in training, aka finding optima via SGD and backprop\n",
    "#we feed in the drop edges as training data, just like you would feed in labels with a feature set\n",
    "train_pred_target_edge_count = .99999#0.5\n",
    "#However! There are still some target edges remaining in the graph. The amount is orig_graph_target_edges * test_pred_target_edge_count * train_pred_target_edge_count\n",
    "#these remaining target edges are now FEATURES instead of labels. The G_train subgraph can use them in training it's edge prediction classification task\n",
    "#confused me at first as it adds an additional element of splitting to traditional ML.\n",
    "#IMO the main reason is that labels can be features. This especially important in time sries graphs, where you may know an acqusition had happened in the previous timestep\n",
    "#then an LSTM would benefit from that prior state knowledge and make the right adjustment\n",
    "org_target_count = len([_ for _ in st_g.edges(include_edge_type=True) if _[2]=='ACQUIRED'])\n",
    "test_target_count = int(org_target_count*(1-test_pred_target_edge_count))\n",
    "train_target_count = int(test_target_count*(1-train_pred_target_edge_count))\n",
    "\n",
    "print('Original Target Edges',org_target_count)\n",
    "print('Target Edges to be held in test dataset, unseen by training, and later used in evaluation', org_target_count-test_target_count)\n",
    "print('Target Edges to be held in train dataset, used by backprop to opto', test_target_count-train_target_count)\n",
    "print('Remaining Target Edges turned into features',train_target_count)\n",
    "#when running the edgesplitter, the test edge splitter should be close to this number, and same with train\n",
    "num_workers = -1"
   ]
  },
  {
   "cell_type": "code",
   "execution_count": 31,
   "metadata": {},
   "outputs": [
    {
     "name": "stdout",
     "output_type": "stream",
     "text": [
      "Network has 2005 edges of type ACQUIRED\n",
      "Network has 2005 edges of type ACQUIRED\n",
      "** Sampled 601 positive and 601 negative edges. **\n"
     ]
    }
   ],
   "source": [
    "edge_splitter_test = EdgeSplitter(st_g)\n",
    "G_test, edge_ids_test, edge_labels_test = edge_splitter_test.train_test_split(\n",
    "    p=test_pred_target_edge_count, method=\"global\", edge_label='ACQUIRED'\n",
    ")\n",
    "#setting keep connected as false because\n",
    "#ValueError: Unable to sample 298 positive edges (could only sample 90 positive edges). Consider using smaller value for p or set keep_connected=False\n",
    "\n",
    "#this produced edge_ids_test which is a subgraph of original, missing test_pred_target_edge_count of target edges\n",
    "#and edge_labels_test which is a dataset if positive labels 1 (the acquired edge exists),\n",
    "#and negative samples, the acquired edge doesn't exist 0\n",
    "#can bassically run G_test as your training data\n",
    "#can see when comparing info"
   ]
  },
  {
   "cell_type": "code",
   "execution_count": 39,
   "metadata": {},
   "outputs": [
    {
     "name": "stdout",
     "output_type": "stream",
     "text": [
      "Network has 1404 edges of type ACQUIRED\n",
      "Network has 1404 edges of type ACQUIRED\n",
      "** Sampled 1403 positive and 1403 negative edges. **\n"
     ]
    }
   ],
   "source": [
    "edge_splitter_test = EdgeSplitter(G_test)\n",
    "G_train, edge_ids_train, edge_labels_train = edge_splitter_test.train_test_split(\n",
    "    p=train_pred_target_edge_count, method=\"global\", edge_label='ACQUIRED'\n",
    ")"
   ]
  },
  {
   "cell_type": "raw",
   "metadata": {},
   "source": [
    "#this method lead to severe over fitting\n",
    "\n",
    "#once train test split has happened, we can run node2vec on the test and train set separately\n",
    "#this prevents data leakage problem\n",
    "#doing a quick node2vec so the weights have somwhere to start instead of a random array\n",
    "#random array still works but trains much slower\n",
    "mod = GraphNode2Vec(walk_length = 1, workers = -1)\n",
    "G_test = G_test.to_networkx()\n",
    "mod.fit(G_test)\n",
    "\n",
    "nx.set_node_attributes(\n",
    "    G_test,\n",
    "    mod.embeddings,\n",
    "    'node2vec_embeddings',\n",
    ")\n",
    "G_test = StellarGraph.from_networkx(G_test, node_features='node2vec_embeddings')\n",
    "\n",
    "#same for training dataset\n",
    "\n",
    "mod = GraphNode2Vec(walk_length = 1, workers = -1)\n",
    "G_train = G_train.to_networkx()\n",
    "mod.fit(G_train)\n",
    "\n",
    "nx.set_node_attributes(\n",
    "    G_train,\n",
    "    mod.embeddings,\n",
    "    'node2vec_embeddings',\n",
    ")\n",
    "G_train = StellarGraph.from_networkx(G_train, node_features='node2vec_embeddings')"
   ]
  },
  {
   "cell_type": "code",
   "execution_count": 40,
   "metadata": {},
   "outputs": [
    {
     "name": "stdout",
     "output_type": "stream",
     "text": [
      "(1202, 2) (1202,)\n"
     ]
    }
   ],
   "source": [
    "print(edge_ids_test.shape, edge_labels_test.shape)"
   ]
  },
  {
   "cell_type": "code",
   "execution_count": 41,
   "metadata": {},
   "outputs": [
    {
     "name": "stdout",
     "output_type": "stream",
     "text": [
      "Sanity check\n",
      "2005\n",
      "1404\n",
      "1\n"
     ]
    }
   ],
   "source": [
    "print('Sanity check')\n",
    "for _g in [st_g, G_test, G_train]:\n",
    "    print(len([_ for _ in _g.edges(include_edge_type=True) if _[2]=='ACQUIRED']))\n",
    "    #print(_g.info())"
   ]
  },
  {
   "cell_type": "markdown",
   "metadata": {},
   "source": [
    "### Creation of the model"
   ]
  },
  {
   "cell_type": "code",
   "execution_count": 55,
   "metadata": {},
   "outputs": [],
   "source": [
    "batch_size = 800\n",
    "epochs = 400#1000\n",
    "num_samples=[8]"
   ]
  },
  {
   "cell_type": "markdown",
   "metadata": {},
   "source": [
    "### Better Train Test Split Methadoloy\n",
    "https://stellargraph.readthedocs.io/en/stable/demos/link-prediction/graphsage-link-prediction.html"
   ]
  },
  {
   "cell_type": "code",
   "execution_count": 56,
   "metadata": {},
   "outputs": [],
   "source": [
    "test_generator = HinSAGELinkGenerator(st_g, batch_size=batch_size,\n",
    "                                      num_samples=num_samples,\n",
    "                                      head_node_types=[\"Company\", \"Company\"])\n",
    "test_gen = test_generator.flow(edge_ids_test, edge_labels_test)"
   ]
  },
  {
   "cell_type": "code",
   "execution_count": 57,
   "metadata": {},
   "outputs": [],
   "source": [
    "train_generator = HinSAGELinkGenerator(G_train, batch_size=batch_size,\n",
    "                                       num_samples=num_samples,\n",
    "                                       head_node_types=[\"Company\", \"Company\"])\n",
    "train_gen = train_generator.flow(edge_ids_train, edge_labels_train, shuffle=True)"
   ]
  },
  {
   "cell_type": "code",
   "execution_count": 58,
   "metadata": {},
   "outputs": [],
   "source": [
    "hinsage_layer_sizes = [32]\n",
    "assert len(hinsage_layer_sizes) == len(num_samples)\n",
    "\n",
    "hinsage = HinSAGE(\n",
    "    layer_sizes=hinsage_layer_sizes, generator=train_generator, bias=True, dropout=0.6\n",
    ")\n",
    "x_inp, x_out = hinsage.in_out_tensors()"
   ]
  },
  {
   "cell_type": "code",
   "execution_count": 59,
   "metadata": {},
   "outputs": [
    {
     "name": "stdout",
     "output_type": "stream",
     "text": [
      "link_classification: using 'ip' method to combine node embeddings into edge embeddings\n"
     ]
    }
   ],
   "source": [
    "prediction = link_classification(output_dim=1, output_act=\"relu\", edge_embedding_method=\"ip\")(x_out)"
   ]
  },
  {
   "cell_type": "code",
   "execution_count": 60,
   "metadata": {},
   "outputs": [
    {
     "name": "stdout",
     "output_type": "stream",
     "text": [
      "Count of layers to be created (max degree within training graph)\n",
      "(2365, 27)\n"
     ]
    }
   ],
   "source": [
    "G_train_nx = G_train.to_networkx()\n",
    "_g = zip(list(G_train_nx.nodes(data=True)),G_train_nx.degree)\n",
    "print('Count of layers to be created (max degree within training graph)')\n",
    "print(sorted([_ for _ in _g if _[0][1].get('label','')=='Company'], key=lambda x: x[1][1], reverse=True)[0][1])"
   ]
  },
  {
   "attachments": {
    "2af1daab-8ac8-493b-b078-c5127668d9ad.png": {
     "image/png": "[encoded data removed]"
    }
   },
   "cell_type": "markdown",
   "metadata": {},
   "source": [
    "###### Model will have n (whatever is above ^) layers based on the amount of n incoming edges for the node with the largest amount of layers\n",
    "###### In the image below, the node A has 3 incoming edges from 3 adjacent nodes, so each adjacent node gets it's own layer to receive that node's current embedding\n",
    "###### We take the max, and other layers won't be used\n",
    "###### BUT when evaluating, because the max is set by training set, some test nodes with higher degrees won't get to read their adjacent node's embeddings\n",
    "![image.png](attachment:2af1daab-8ac8-493b-b078-c5127668d9ad.png)\n"
   ]
  },
  {
   "cell_type": "code",
   "execution_count": 101,
   "metadata": {
    "scrolled": true
   },
   "outputs": [
    {
     "name": "stdout",
     "output_type": "stream",
     "text": [
      "Model: \"model_12\"\n",
      "__________________________________________________________________________________________________\n",
      "Layer (type)                    Output Shape         Param #     Connected to                     \n",
      "==================================================================================================\n",
      "input_29 (InputLayer)           [(None, 8, 128)]     0                                            \n",
      "__________________________________________________________________________________________________\n",
      "input_30 (InputLayer)           [(None, 8, 128)]     0                                            \n",
      "__________________________________________________________________________________________________\n",
      "input_31 (InputLayer)           [(None, 8, 128)]     0                                            \n",
      "__________________________________________________________________________________________________\n",
      "input_32 (InputLayer)           [(None, 8, 128)]     0                                            \n",
      "__________________________________________________________________________________________________\n",
      "input_33 (InputLayer)           [(None, 8, 128)]     0                                            \n",
      "__________________________________________________________________________________________________\n",
      "input_34 (InputLayer)           [(None, 8, 128)]     0                                            \n",
      "__________________________________________________________________________________________________\n",
      "input_35 (InputLayer)           [(None, 8, 128)]     0                                            \n",
      "__________________________________________________________________________________________________\n",
      "input_36 (InputLayer)           [(None, 8, 128)]     0                                            \n",
      "__________________________________________________________________________________________________\n",
      "input_37 (InputLayer)           [(None, 8, 128)]     0                                            \n",
      "__________________________________________________________________________________________________\n",
      "input_38 (InputLayer)           [(None, 8, 128)]     0                                            \n",
      "__________________________________________________________________________________________________\n",
      "input_39 (InputLayer)           [(None, 8, 128)]     0                                            \n",
      "__________________________________________________________________________________________________\n",
      "input_40 (InputLayer)           [(None, 8, 128)]     0                                            \n",
      "__________________________________________________________________________________________________\n",
      "input_41 (InputLayer)           [(None, 8, 128)]     0                                            \n",
      "__________________________________________________________________________________________________\n",
      "input_42 (InputLayer)           [(None, 8, 128)]     0                                            \n",
      "__________________________________________________________________________________________________\n",
      "input_43 (InputLayer)           [(None, 8, 128)]     0                                            \n",
      "__________________________________________________________________________________________________\n",
      "input_44 (InputLayer)           [(None, 8, 128)]     0                                            \n",
      "__________________________________________________________________________________________________\n",
      "input_45 (InputLayer)           [(None, 8, 128)]     0                                            \n",
      "__________________________________________________________________________________________________\n",
      "input_46 (InputLayer)           [(None, 8, 128)]     0                                            \n",
      "__________________________________________________________________________________________________\n",
      "input_47 (InputLayer)           [(None, 8, 128)]     0                                            \n",
      "__________________________________________________________________________________________________\n",
      "input_48 (InputLayer)           [(None, 8, 128)]     0                                            \n",
      "__________________________________________________________________________________________________\n",
      "input_49 (InputLayer)           [(None, 8, 128)]     0                                            \n",
      "__________________________________________________________________________________________________\n",
      "input_50 (InputLayer)           [(None, 8, 128)]     0                                            \n",
      "__________________________________________________________________________________________________\n",
      "input_51 (InputLayer)           [(None, 8, 128)]     0                                            \n",
      "__________________________________________________________________________________________________\n",
      "input_52 (InputLayer)           [(None, 8, 128)]     0                                            \n",
      "__________________________________________________________________________________________________\n",
      "input_27 (InputLayer)           [(None, 1, 128)]     0                                            \n",
      "__________________________________________________________________________________________________\n",
      "reshape_27 (Reshape)            (None, 1, 8, 128)    0           input_29[0][0]                   \n",
      "__________________________________________________________________________________________________\n",
      "reshape_28 (Reshape)            (None, 1, 8, 128)    0           input_30[0][0]                   \n",
      "__________________________________________________________________________________________________\n",
      "reshape_29 (Reshape)            (None, 1, 8, 128)    0           input_31[0][0]                   \n",
      "__________________________________________________________________________________________________\n",
      "reshape_30 (Reshape)            (None, 1, 8, 128)    0           input_32[0][0]                   \n",
      "__________________________________________________________________________________________________\n",
      "reshape_31 (Reshape)            (None, 1, 8, 128)    0           input_33[0][0]                   \n",
      "__________________________________________________________________________________________________\n",
      "reshape_32 (Reshape)            (None, 1, 8, 128)    0           input_34[0][0]                   \n",
      "__________________________________________________________________________________________________\n",
      "reshape_33 (Reshape)            (None, 1, 8, 128)    0           input_35[0][0]                   \n",
      "__________________________________________________________________________________________________\n",
      "reshape_34 (Reshape)            (None, 1, 8, 128)    0           input_36[0][0]                   \n",
      "__________________________________________________________________________________________________\n",
      "reshape_35 (Reshape)            (None, 1, 8, 128)    0           input_37[0][0]                   \n",
      "__________________________________________________________________________________________________\n",
      "reshape_36 (Reshape)            (None, 1, 8, 128)    0           input_38[0][0]                   \n",
      "__________________________________________________________________________________________________\n",
      "reshape_37 (Reshape)            (None, 1, 8, 128)    0           input_39[0][0]                   \n",
      "__________________________________________________________________________________________________\n",
      "reshape_38 (Reshape)            (None, 1, 8, 128)    0           input_40[0][0]                   \n",
      "__________________________________________________________________________________________________\n",
      "input_28 (InputLayer)           [(None, 1, 128)]     0                                            \n",
      "__________________________________________________________________________________________________\n",
      "reshape_39 (Reshape)            (None, 1, 8, 128)    0           input_41[0][0]                   \n",
      "__________________________________________________________________________________________________\n",
      "reshape_40 (Reshape)            (None, 1, 8, 128)    0           input_42[0][0]                   \n",
      "__________________________________________________________________________________________________\n",
      "reshape_41 (Reshape)            (None, 1, 8, 128)    0           input_43[0][0]                   \n",
      "__________________________________________________________________________________________________\n",
      "reshape_42 (Reshape)            (None, 1, 8, 128)    0           input_44[0][0]                   \n",
      "__________________________________________________________________________________________________\n",
      "reshape_43 (Reshape)            (None, 1, 8, 128)    0           input_45[0][0]                   \n",
      "__________________________________________________________________________________________________\n",
      "reshape_44 (Reshape)            (None, 1, 8, 128)    0           input_46[0][0]                   \n",
      "__________________________________________________________________________________________________\n",
      "reshape_45 (Reshape)            (None, 1, 8, 128)    0           input_47[0][0]                   \n",
      "__________________________________________________________________________________________________\n",
      "reshape_46 (Reshape)            (None, 1, 8, 128)    0           input_48[0][0]                   \n",
      "__________________________________________________________________________________________________\n",
      "reshape_47 (Reshape)            (None, 1, 8, 128)    0           input_49[0][0]                   \n",
      "__________________________________________________________________________________________________\n",
      "reshape_48 (Reshape)            (None, 1, 8, 128)    0           input_50[0][0]                   \n",
      "__________________________________________________________________________________________________\n",
      "reshape_49 (Reshape)            (None, 1, 8, 128)    0           input_51[0][0]                   \n",
      "__________________________________________________________________________________________________\n",
      "reshape_50 (Reshape)            (None, 1, 8, 128)    0           input_52[0][0]                   \n",
      "__________________________________________________________________________________________________\n",
      "dropout_38 (Dropout)            (None, 1, 128)       0           input_27[0][0]                   \n",
      "__________________________________________________________________________________________________\n",
      "dropout_26 (Dropout)            (None, 1, 8, 128)    0           reshape_27[0][0]                 \n",
      "__________________________________________________________________________________________________\n",
      "dropout_27 (Dropout)            (None, 1, 8, 128)    0           reshape_28[0][0]                 \n",
      "__________________________________________________________________________________________________\n",
      "dropout_28 (Dropout)            (None, 1, 8, 128)    0           reshape_29[0][0]                 \n",
      "__________________________________________________________________________________________________\n",
      "dropout_29 (Dropout)            (None, 1, 8, 128)    0           reshape_30[0][0]                 \n",
      "__________________________________________________________________________________________________\n",
      "dropout_30 (Dropout)            (None, 1, 8, 128)    0           reshape_31[0][0]                 \n",
      "__________________________________________________________________________________________________\n",
      "dropout_31 (Dropout)            (None, 1, 8, 128)    0           reshape_32[0][0]                 \n",
      "__________________________________________________________________________________________________\n",
      "dropout_32 (Dropout)            (None, 1, 8, 128)    0           reshape_33[0][0]                 \n",
      "__________________________________________________________________________________________________\n",
      "dropout_33 (Dropout)            (None, 1, 8, 128)    0           reshape_34[0][0]                 \n",
      "__________________________________________________________________________________________________\n",
      "dropout_34 (Dropout)            (None, 1, 8, 128)    0           reshape_35[0][0]                 \n",
      "__________________________________________________________________________________________________\n",
      "dropout_35 (Dropout)            (None, 1, 8, 128)    0           reshape_36[0][0]                 \n",
      "__________________________________________________________________________________________________\n",
      "dropout_36 (Dropout)            (None, 1, 8, 128)    0           reshape_37[0][0]                 \n",
      "__________________________________________________________________________________________________\n",
      "dropout_37 (Dropout)            (None, 1, 8, 128)    0           reshape_38[0][0]                 \n",
      "__________________________________________________________________________________________________\n",
      "dropout_51 (Dropout)            (None, 1, 128)       0           input_28[0][0]                   \n",
      "__________________________________________________________________________________________________\n",
      "dropout_39 (Dropout)            (None, 1, 8, 128)    0           reshape_39[0][0]                 \n",
      "__________________________________________________________________________________________________\n",
      "dropout_40 (Dropout)            (None, 1, 8, 128)    0           reshape_40[0][0]                 \n",
      "__________________________________________________________________________________________________\n",
      "dropout_41 (Dropout)            (None, 1, 8, 128)    0           reshape_41[0][0]                 \n",
      "__________________________________________________________________________________________________\n",
      "dropout_42 (Dropout)            (None, 1, 8, 128)    0           reshape_42[0][0]                 \n",
      "__________________________________________________________________________________________________\n",
      "dropout_43 (Dropout)            (None, 1, 8, 128)    0           reshape_43[0][0]                 \n",
      "__________________________________________________________________________________________________\n",
      "dropout_44 (Dropout)            (None, 1, 8, 128)    0           reshape_44[0][0]                 \n",
      "__________________________________________________________________________________________________\n",
      "dropout_45 (Dropout)            (None, 1, 8, 128)    0           reshape_45[0][0]                 \n",
      "__________________________________________________________________________________________________\n",
      "dropout_46 (Dropout)            (None, 1, 8, 128)    0           reshape_46[0][0]                 \n",
      "__________________________________________________________________________________________________\n",
      "dropout_47 (Dropout)            (None, 1, 8, 128)    0           reshape_47[0][0]                 \n",
      "__________________________________________________________________________________________________\n",
      "dropout_48 (Dropout)            (None, 1, 8, 128)    0           reshape_48[0][0]                 \n",
      "__________________________________________________________________________________________________\n",
      "dropout_49 (Dropout)            (None, 1, 8, 128)    0           reshape_49[0][0]                 \n",
      "__________________________________________________________________________________________________\n",
      "dropout_50 (Dropout)            (None, 1, 8, 128)    0           reshape_50[0][0]                 \n",
      "__________________________________________________________________________________________________\n",
      "mean_hin_aggregator_1 (MeanHinA (None, 1, 32)        26656       dropout_38[0][0]                 \n",
      "                                                                 dropout_26[0][0]                 \n",
      "                                                                 dropout_27[0][0]                 \n",
      "                                                                 dropout_28[0][0]                 \n",
      "                                                                 dropout_29[0][0]                 \n",
      "                                                                 dropout_30[0][0]                 \n",
      "                                                                 dropout_31[0][0]                 \n",
      "                                                                 dropout_32[0][0]                 \n",
      "                                                                 dropout_33[0][0]                 \n",
      "                                                                 dropout_34[0][0]                 \n",
      "                                                                 dropout_35[0][0]                 \n",
      "                                                                 dropout_36[0][0]                 \n",
      "                                                                 dropout_37[0][0]                 \n",
      "                                                                 dropout_51[0][0]                 \n",
      "                                                                 dropout_39[0][0]                 \n",
      "                                                                 dropout_40[0][0]                 \n",
      "                                                                 dropout_41[0][0]                 \n",
      "                                                                 dropout_42[0][0]                 \n",
      "                                                                 dropout_43[0][0]                 \n",
      "                                                                 dropout_44[0][0]                 \n",
      "                                                                 dropout_45[0][0]                 \n",
      "                                                                 dropout_46[0][0]                 \n",
      "                                                                 dropout_47[0][0]                 \n",
      "                                                                 dropout_48[0][0]                 \n",
      "                                                                 dropout_49[0][0]                 \n",
      "                                                                 dropout_50[0][0]                 \n",
      "__________________________________________________________________________________________________\n",
      "reshape_51 (Reshape)            (None, 32)           0           mean_hin_aggregator_1[0][0]      \n",
      "__________________________________________________________________________________________________\n",
      "reshape_52 (Reshape)            (None, 32)           0           mean_hin_aggregator_1[1][0]      \n",
      "__________________________________________________________________________________________________\n",
      "lambda_1 (Lambda)               (None, 32)           0           reshape_51[0][0]                 \n",
      "                                                                 reshape_52[0][0]                 \n",
      "__________________________________________________________________________________________________\n",
      "link_embedding_1 (LinkEmbedding (None, 1)            0           lambda_1[0][0]                   \n",
      "                                                                 lambda_1[1][0]                   \n",
      "__________________________________________________________________________________________________\n",
      "activation_1 (Activation)       (None, 1)            0           link_embedding_1[0][0]           \n",
      "__________________________________________________________________________________________________\n",
      "reshape_53 (Reshape)            (None, 1)            0           activation_1[0][0]               \n",
      "==================================================================================================\n",
      "Total params: 26,656\n",
      "Trainable params: 26,656\n",
      "Non-trainable params: 0\n",
      "__________________________________________________________________________________________________\n"
     ]
    }
   ],
   "source": [
    "\n",
    "model = Model(inputs=x_inp, outputs=prediction)\n",
    "model.compile(\n",
    "    optimizer=optimizers.Adam(lr=.005),\n",
    "    loss=losses.binary_crossentropy,\n",
    "    metrics=['accuracy' ],\n",
    ")\n",
    "model.summary()"
   ]
  },
  {
   "cell_type": "code",
   "execution_count": 95,
   "metadata": {},
   "outputs": [
    {
     "name": "stdout",
     "output_type": "stream",
     "text": [
      "Failed to import pydot. You must install pydot and graphviz for `pydotprint` to work.\n"
     ]
    }
   ],
   "source": [
    "plot_model(model, to_file='../models/current_best_model.png', show_layer_names=True, show_shapes=False)"
   ]
  },
  {
   "cell_type": "code",
   "execution_count": 105,
   "metadata": {},
   "outputs": [
    {
     "name": "stdout",
     "output_type": "stream",
     "text": [
      "4/4 [==============================] - 1s 269ms/step - loss: 3.6034 - accuracy: 0.5018\n",
      "2/2 [==============================] - 0s 77ms/step - loss: 3.5837 - accuracy: 0.5050\n",
      "\n",
      "Train Set Metrics of the initial (untrained) model:\n",
      "\tloss: 3.6034\n",
      "\taccuracy: 0.5018\n",
      "\n",
      "Test Set Metrics of the initial (untrained) model:\n",
      "\tloss: 3.5837\n",
      "\taccuracy: 0.5050\n"
     ]
    }
   ],
   "source": [
    "init_train_metrics = model.evaluate(train_gen)\n",
    "init_test_metrics = model.evaluate(test_gen)\n",
    "\n",
    "print(\"\\nTrain Set Metrics of the initial (untrained) model:\")\n",
    "for name, val in zip(model.metrics_names, init_train_metrics):\n",
    "    print(\"\\t{}: {:0.4f}\".format(name, val))\n",
    "\n",
    "print(\"\\nTest Set Metrics of the initial (untrained) model:\")\n",
    "for name, val in zip(model.metrics_names, init_test_metrics):\n",
    "    print(\"\\t{}: {:0.4f}\".format(name, val))"
   ]
  },
  {
   "cell_type": "code",
   "execution_count": 106,
   "metadata": {},
   "outputs": [
    {
     "name": "stdout",
     "output_type": "stream",
     "text": [
      "Num GPUs Available:  0\n"
     ]
    }
   ],
   "source": [
    "import tensorflow as tf\n",
    "print(\"Num GPUs Available: \", len(tf.config.list_physical_devices('GPU')))"
   ]
  },
  {
   "cell_type": "code",
   "execution_count": 107,
   "metadata": {
    "scrolled": true
   },
   "outputs": [
    {
     "name": "stdout",
     "output_type": "stream",
     "text": [
      "Epoch 1/400\n"
     ]
    },
    {
     "ename": "TypeError",
     "evalue": "'NoneType' object is not subscriptable",
     "output_type": "error",
     "traceback": [
      "\u001b[1;31m---------------------------------------------------------------------------\u001b[0m",
      "\u001b[1;31mTypeError\u001b[0m                                 Traceback (most recent call last)",
      "Cell \u001b[1;32mIn[107], line 24\u001b[0m\n\u001b[0;32m     20\u001b[0m         \u001b[39mreturn\u001b[39;00m \u001b[39mself\u001b[39m\u001b[39m.\u001b[39m_data\n\u001b[0;32m     23\u001b[0m metrics \u001b[39m=\u001b[39m Metrics()\n\u001b[1;32m---> 24\u001b[0m history \u001b[39m=\u001b[39m model\u001b[39m.\u001b[39;49mfit(train_gen,\n\u001b[0;32m     25\u001b[0m                     epochs\u001b[39m=\u001b[39;49mepochs,\n\u001b[0;32m     26\u001b[0m                     validation_data\u001b[39m=\u001b[39;49mtest_gen,\n\u001b[0;32m     27\u001b[0m                     use_multiprocessing\u001b[39m=\u001b[39;49m\u001b[39mTrue\u001b[39;49;00m,\n\u001b[0;32m     28\u001b[0m                     verbose\u001b[39m=\u001b[39;49m\u001b[39m2\u001b[39;49m,\n\u001b[0;32m     29\u001b[0m                     workers\u001b[39m=\u001b[39;49mnum_workers,\n\u001b[0;32m     30\u001b[0m                     callbacks\u001b[39m=\u001b[39;49mmetrics)\n",
      "File \u001b[1;32md:\\miniconda\\envs\\vip2\\lib\\site-packages\\tensorflow\\python\\keras\\engine\\training.py:66\u001b[0m, in \u001b[0;36menable_multi_worker.<locals>._method_wrapper\u001b[1;34m(self, *args, **kwargs)\u001b[0m\n\u001b[0;32m     64\u001b[0m \u001b[39mdef\u001b[39;00m \u001b[39m_method_wrapper\u001b[39m(\u001b[39mself\u001b[39m, \u001b[39m*\u001b[39margs, \u001b[39m*\u001b[39m\u001b[39m*\u001b[39mkwargs):\n\u001b[0;32m     65\u001b[0m   \u001b[39mif\u001b[39;00m \u001b[39mnot\u001b[39;00m \u001b[39mself\u001b[39m\u001b[39m.\u001b[39m_in_multi_worker_mode():  \u001b[39m# pylint: disable=protected-access\u001b[39;00m\n\u001b[1;32m---> 66\u001b[0m     \u001b[39mreturn\u001b[39;00m method(\u001b[39mself\u001b[39;49m, \u001b[39m*\u001b[39;49margs, \u001b[39m*\u001b[39;49m\u001b[39m*\u001b[39;49mkwargs)\n\u001b[0;32m     68\u001b[0m   \u001b[39m# Running inside `run_distribute_coordinator` already.\u001b[39;00m\n\u001b[0;32m     69\u001b[0m   \u001b[39mif\u001b[39;00m dc_context\u001b[39m.\u001b[39mget_current_worker_context():\n",
      "File \u001b[1;32md:\\miniconda\\envs\\vip2\\lib\\site-packages\\tensorflow\\python\\keras\\engine\\training.py:876\u001b[0m, in \u001b[0;36mModel.fit\u001b[1;34m(self, x, y, batch_size, epochs, verbose, callbacks, validation_split, validation_data, shuffle, class_weight, sample_weight, initial_epoch, steps_per_epoch, validation_steps, validation_batch_size, validation_freq, max_queue_size, workers, use_multiprocessing)\u001b[0m\n\u001b[0;32m    873\u001b[0m   val_logs \u001b[39m=\u001b[39m {\u001b[39m'\u001b[39m\u001b[39mval_\u001b[39m\u001b[39m'\u001b[39m \u001b[39m+\u001b[39m name: val \u001b[39mfor\u001b[39;00m name, val \u001b[39min\u001b[39;00m val_logs\u001b[39m.\u001b[39mitems()}\n\u001b[0;32m    874\u001b[0m   epoch_logs\u001b[39m.\u001b[39mupdate(val_logs)\n\u001b[1;32m--> 876\u001b[0m callbacks\u001b[39m.\u001b[39;49mon_epoch_end(epoch, epoch_logs)\n\u001b[0;32m    877\u001b[0m \u001b[39mif\u001b[39;00m \u001b[39mself\u001b[39m\u001b[39m.\u001b[39mstop_training:\n\u001b[0;32m    878\u001b[0m   \u001b[39mbreak\u001b[39;00m\n",
      "File \u001b[1;32md:\\miniconda\\envs\\vip2\\lib\\site-packages\\tensorflow\\python\\keras\\callbacks.py:365\u001b[0m, in \u001b[0;36mCallbackList.on_epoch_end\u001b[1;34m(self, epoch, logs)\u001b[0m\n\u001b[0;32m    363\u001b[0m logs \u001b[39m=\u001b[39m \u001b[39mself\u001b[39m\u001b[39m.\u001b[39m_process_logs(logs)\n\u001b[0;32m    364\u001b[0m \u001b[39mfor\u001b[39;00m callback \u001b[39min\u001b[39;00m \u001b[39mself\u001b[39m\u001b[39m.\u001b[39mcallbacks:\n\u001b[1;32m--> 365\u001b[0m   callback\u001b[39m.\u001b[39;49mon_epoch_end(epoch, logs)\n",
      "Cell \u001b[1;32mIn[107], line 7\u001b[0m, in \u001b[0;36mMetrics.on_epoch_end\u001b[1;34m(self, batch, logs)\u001b[0m\n\u001b[0;32m      6\u001b[0m \u001b[39mdef\u001b[39;00m \u001b[39mon_epoch_end\u001b[39m(\u001b[39mself\u001b[39m, batch, logs\u001b[39m=\u001b[39m{}):\n\u001b[1;32m----> 7\u001b[0m     X_val, y_val \u001b[39m=\u001b[39m \u001b[39mself\u001b[39;49m\u001b[39m.\u001b[39;49mvalidation_data[\u001b[39m0\u001b[39;49m], \u001b[39mself\u001b[39m\u001b[39m.\u001b[39mvalidation_data[\u001b[39m1\u001b[39m]\n\u001b[0;32m      8\u001b[0m     y_predict \u001b[39m=\u001b[39m np\u001b[39m.\u001b[39masarray(model\u001b[39m.\u001b[39mpredict(X_val))\n\u001b[0;32m     10\u001b[0m     y_val \u001b[39m=\u001b[39m np\u001b[39m.\u001b[39margmax(y_val, axis\u001b[39m=\u001b[39m\u001b[39m1\u001b[39m)\n",
      "\u001b[1;31mTypeError\u001b[0m: 'NoneType' object is not subscriptable"
     ]
    }
   ],
   "source": [
    "from tensorflow.keras import  callbacks\n",
    "class Metrics(callbacks.Callback):\n",
    "    def on_train_begin(self, logs={}):\n",
    "        self._data = []\n",
    "\n",
    "    def on_epoch_end(self, batch, logs={}):\n",
    "        X_val, y_val = self.validation_data[0], self.validation_data[1]\n",
    "        y_predict = np.asarray(model.predict(X_val))\n",
    "\n",
    "        y_val = np.argmax(y_val, axis=1)\n",
    "        y_predict = np.argmax(y_predict, axis=1)\n",
    "\n",
    "        self._data.append({\n",
    "            'val_recall': recall_score(y_val, y_predict),\n",
    "            'val_precision': precision_score(y_val, y_predict),\n",
    "        })\n",
    "        return\n",
    "\n",
    "    def get_data(self):\n",
    "        return self._data\n",
    "\n",
    "\n",
    "metrics = Metrics()\n",
    "history = model.fit(train_gen,\n",
    "                    epochs=epochs,\n",
    "                    validation_data=test_gen,\n",
    "                    use_multiprocessing=True,\n",
    "                    verbose=2,\n",
    "                    workers=num_workers)"
   ]
  },
  {
   "cell_type": "code",
   "execution_count": null,
   "metadata": {},
   "outputs": [
    {
     "data": {
      "image/png": "[encoded data removed]",
      "text/plain": [
       "<Figure size 504x576 with 2 Axes>"
      ]
     },
     "metadata": {
      "needs_background": "light"
     },
     "output_type": "display_data"
    }
   ],
   "source": [
    "plot_history(history)"
   ]
  },
  {
   "cell_type": "code",
   "execution_count": null,
   "metadata": {},
   "outputs": [
    {
     "name": "stdout",
     "output_type": "stream",
     "text": [
      "4/4 [==============================] - 2s 401ms/step - loss: 0.1247 - accuracy: 0.9519\n",
      "2/2 [==============================] - 1s 224ms/step - loss: 0.5590 - accuracy: 0.8353\n",
      "\n",
      "Train Set Metrics of the trained model:\n",
      "\tloss: 0.1247\n",
      "\taccuracy: 0.9519\n",
      "\n",
      "Test Set Metrics of the trained model:\n",
      "\tloss: 0.5590\n",
      "\taccuracy: 0.8353\n"
     ]
    }
   ],
   "source": [
    "train_metrics = model.evaluate(train_gen)\n",
    "test_metrics = model.evaluate(test_gen)\n",
    "\n",
    "print(\"\\nTrain Set Metrics of the trained model:\")\n",
    "for name, val in zip(model.metrics_names, train_metrics):\n",
    "    print(\"\\t{}: {:0.4f}\".format(name, val))\n",
    "\n",
    "print(\"\\nTest Set Metrics of the trained model:\")\n",
    "for name, val in zip(model.metrics_names, test_metrics):\n",
    "    print(\"\\t{}: {:0.4f}\".format(name, val))"
   ]
  },
  {
   "cell_type": "code",
   "execution_count": null,
   "metadata": {},
   "outputs": [],
   "source": []
  }
 ],
 "metadata": {
  "kernelspec": {
   "display_name": "Python 3.8.3 64-bit",
   "language": "python",
   "name": "python3"
  },
  "language_info": {
   "codemirror_mode": {
    "name": "ipython",
    "version": 3
   },
   "file_extension": ".py",
   "mimetype": "text/x-python",
   "name": "python",
   "nbconvert_exporter": "python",
   "pygments_lexer": "ipython3",
   "version": "3.8.0"
  },
  "vscode": {
   "interpreter": {
    "hash": "570feb405e2e27c949193ac68f46852414290d515b0ba6e5d90d076ed2284471"
   }
  }
 },
 "nbformat": 4,
 "nbformat_minor": 4
}
